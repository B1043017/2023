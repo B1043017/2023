{
  "nbformat": 4,
  "nbformat_minor": 0,
  "metadata": {
    "colab": {
      "provenance": []
    },
    "kernelspec": {
      "name": "python3",
      "display_name": "Python 3"
    },
    "language_info": {
      "name": "python"
    }
  },
  "cells": [
    {
      "cell_type": "code",
      "execution_count": 23,
      "metadata": {
        "id": "91yPdJUMdzbn"
      },
      "outputs": [],
      "source": []
    },
    {
      "cell_type": "markdown",
      "source": [
        "Goals\n",
        "===\n",
        "1. Scrape data from public Web site: Introduce how to scrape the information of companies from Taiwan Stock Exchange. 如果從公開的資源中抓取資料？：介紹如何從台灣股市交易公司抓取上市公司資料.\n",
        "      \n",
        "2. Implement the QueryBoard: make a streamlit artifact which avails for querying company's ticker in stock market and vice vera. 製造一個查詢上市公司的代碼系統.\n",
        "\n",
        "3. [Streamlit artifact](https://cchuang2009-streamlit-scrapper-query-tai-ind-query-jxprre.streamlit.app/), app link\n",
        "\n",
        "\n",
        "Note\n",
        "---\n",
        "If any error occured, in which displayed warning \"xxx Module not found...\", use the following to install i:\n",
        "```\n",
        "# install python packages. ... \n",
        "pip install xxx"
      ],
      "metadata": {
        "id": "rTeiSljXd2PR"
      }
    },
    {
      "cell_type": "code",
      "source": [
        "!pip install streamlit\n",
        "!pip install pandas"
      ],
      "metadata": {
        "colab": {
          "base_uri": "https://localhost:8080/"
        },
        "id": "n6vgVtsGeeaD",
        "outputId": "31c5d05b-5b41-47b7-de6a-cee0fac68f08"
      },
      "execution_count": 24,
      "outputs": [
        {
          "output_type": "stream",
          "name": "stdout",
          "text": [
            "Looking in indexes: https://pypi.org/simple, https://us-python.pkg.dev/colab-wheels/public/simple/\n",
            "Requirement already satisfied: streamlit in /usr/local/lib/python3.9/dist-packages (1.20.0)\n",
            "Requirement already satisfied: numpy in /usr/local/lib/python3.9/dist-packages (from streamlit) (1.22.4)\n",
            "Requirement already satisfied: cachetools>=4.0 in /usr/local/lib/python3.9/dist-packages (from streamlit) (5.3.0)\n",
            "Requirement already satisfied: altair<5,>=3.2.0 in /usr/local/lib/python3.9/dist-packages (from streamlit) (4.2.2)\n",
            "Requirement already satisfied: gitpython!=3.1.19 in /usr/local/lib/python3.9/dist-packages (from streamlit) (3.1.31)\n",
            "Requirement already satisfied: python-dateutil in /usr/local/lib/python3.9/dist-packages (from streamlit) (2.8.2)\n",
            "Requirement already satisfied: requests>=2.4 in /usr/local/lib/python3.9/dist-packages (from streamlit) (2.27.1)\n",
            "Requirement already satisfied: packaging>=14.1 in /usr/local/lib/python3.9/dist-packages (from streamlit) (23.0)\n",
            "Requirement already satisfied: pympler>=0.9 in /usr/local/lib/python3.9/dist-packages (from streamlit) (1.0.1)\n",
            "Requirement already satisfied: tornado>=6.0.3 in /usr/local/lib/python3.9/dist-packages (from streamlit) (6.2)\n",
            "Requirement already satisfied: typing-extensions>=3.10.0.0 in /usr/local/lib/python3.9/dist-packages (from streamlit) (4.5.0)\n",
            "Requirement already satisfied: pillow>=6.2.0 in /usr/local/lib/python3.9/dist-packages (from streamlit) (8.4.0)\n",
            "Requirement already satisfied: pydeck>=0.1.dev5 in /usr/local/lib/python3.9/dist-packages (from streamlit) (0.8.0)\n",
            "Requirement already satisfied: click>=7.0 in /usr/local/lib/python3.9/dist-packages (from streamlit) (8.1.3)\n",
            "Requirement already satisfied: pyarrow>=4.0 in /usr/local/lib/python3.9/dist-packages (from streamlit) (9.0.0)\n",
            "Requirement already satisfied: toml in /usr/local/lib/python3.9/dist-packages (from streamlit) (0.10.2)\n",
            "Requirement already satisfied: protobuf<4,>=3.12 in /usr/local/lib/python3.9/dist-packages (from streamlit) (3.19.6)\n",
            "Requirement already satisfied: blinker>=1.0.0 in /usr/local/lib/python3.9/dist-packages (from streamlit) (1.5)\n",
            "Requirement already satisfied: semver in /usr/local/lib/python3.9/dist-packages (from streamlit) (2.13.0)\n",
            "Requirement already satisfied: importlib-metadata>=1.4 in /usr/local/lib/python3.9/dist-packages (from streamlit) (6.1.0)\n",
            "Requirement already satisfied: validators>=0.2 in /usr/local/lib/python3.9/dist-packages (from streamlit) (0.20.0)\n",
            "Requirement already satisfied: tzlocal>=1.1 in /usr/local/lib/python3.9/dist-packages (from streamlit) (4.3)\n",
            "Requirement already satisfied: pandas<2,>=0.25 in /usr/local/lib/python3.9/dist-packages (from streamlit) (1.4.4)\n",
            "Requirement already satisfied: rich>=10.11.0 in /usr/local/lib/python3.9/dist-packages (from streamlit) (13.3.2)\n",
            "Requirement already satisfied: watchdog in /usr/local/lib/python3.9/dist-packages (from streamlit) (3.0.0)\n",
            "Requirement already satisfied: entrypoints in /usr/local/lib/python3.9/dist-packages (from altair<5,>=3.2.0->streamlit) (0.4)\n",
            "Requirement already satisfied: toolz in /usr/local/lib/python3.9/dist-packages (from altair<5,>=3.2.0->streamlit) (0.12.0)\n",
            "Requirement already satisfied: jinja2 in /usr/local/lib/python3.9/dist-packages (from altair<5,>=3.2.0->streamlit) (3.1.2)\n",
            "Requirement already satisfied: jsonschema>=3.0 in /usr/local/lib/python3.9/dist-packages (from altair<5,>=3.2.0->streamlit) (4.3.3)\n",
            "Requirement already satisfied: gitdb<5,>=4.0.1 in /usr/local/lib/python3.9/dist-packages (from gitpython!=3.1.19->streamlit) (4.0.10)\n",
            "Requirement already satisfied: zipp>=0.5 in /usr/local/lib/python3.9/dist-packages (from importlib-metadata>=1.4->streamlit) (3.15.0)\n",
            "Requirement already satisfied: pytz>=2020.1 in /usr/local/lib/python3.9/dist-packages (from pandas<2,>=0.25->streamlit) (2022.7.1)\n",
            "Requirement already satisfied: six>=1.5 in /usr/local/lib/python3.9/dist-packages (from python-dateutil->streamlit) (1.16.0)\n",
            "Requirement already satisfied: idna<4,>=2.5 in /usr/local/lib/python3.9/dist-packages (from requests>=2.4->streamlit) (3.4)\n",
            "Requirement already satisfied: charset-normalizer~=2.0.0 in /usr/local/lib/python3.9/dist-packages (from requests>=2.4->streamlit) (2.0.12)\n",
            "Requirement already satisfied: urllib3<1.27,>=1.21.1 in /usr/local/lib/python3.9/dist-packages (from requests>=2.4->streamlit) (1.26.15)\n",
            "Requirement already satisfied: certifi>=2017.4.17 in /usr/local/lib/python3.9/dist-packages (from requests>=2.4->streamlit) (2022.12.7)\n",
            "Requirement already satisfied: markdown-it-py<3.0.0,>=2.2.0 in /usr/local/lib/python3.9/dist-packages (from rich>=10.11.0->streamlit) (2.2.0)\n",
            "Requirement already satisfied: pygments<3.0.0,>=2.13.0 in /usr/local/lib/python3.9/dist-packages (from rich>=10.11.0->streamlit) (2.14.0)\n",
            "Requirement already satisfied: pytz-deprecation-shim in /usr/local/lib/python3.9/dist-packages (from tzlocal>=1.1->streamlit) (0.1.0.post0)\n",
            "Requirement already satisfied: decorator>=3.4.0 in /usr/local/lib/python3.9/dist-packages (from validators>=0.2->streamlit) (4.4.2)\n",
            "Requirement already satisfied: smmap<6,>=3.0.1 in /usr/local/lib/python3.9/dist-packages (from gitdb<5,>=4.0.1->gitpython!=3.1.19->streamlit) (5.0.0)\n",
            "Requirement already satisfied: MarkupSafe>=2.0 in /usr/local/lib/python3.9/dist-packages (from jinja2->altair<5,>=3.2.0->streamlit) (2.1.2)\n",
            "Requirement already satisfied: pyrsistent!=0.17.0,!=0.17.1,!=0.17.2,>=0.14.0 in /usr/local/lib/python3.9/dist-packages (from jsonschema>=3.0->altair<5,>=3.2.0->streamlit) (0.19.3)\n",
            "Requirement already satisfied: attrs>=17.4.0 in /usr/local/lib/python3.9/dist-packages (from jsonschema>=3.0->altair<5,>=3.2.0->streamlit) (22.2.0)\n",
            "Requirement already satisfied: mdurl~=0.1 in /usr/local/lib/python3.9/dist-packages (from markdown-it-py<3.0.0,>=2.2.0->rich>=10.11.0->streamlit) (0.1.2)\n",
            "Requirement already satisfied: tzdata in /usr/local/lib/python3.9/dist-packages (from pytz-deprecation-shim->tzlocal>=1.1->streamlit) (2022.7)\n",
            "Looking in indexes: https://pypi.org/simple, https://us-python.pkg.dev/colab-wheels/public/simple/\n",
            "Requirement already satisfied: pandas in /usr/local/lib/python3.9/dist-packages (1.4.4)\n",
            "Requirement already satisfied: numpy>=1.18.5 in /usr/local/lib/python3.9/dist-packages (from pandas) (1.22.4)\n",
            "Requirement already satisfied: python-dateutil>=2.8.1 in /usr/local/lib/python3.9/dist-packages (from pandas) (2.8.2)\n",
            "Requirement already satisfied: pytz>=2020.1 in /usr/local/lib/python3.9/dist-packages (from pandas) (2022.7.1)\n",
            "Requirement already satisfied: six>=1.5 in /usr/local/lib/python3.9/dist-packages (from python-dateutil>=2.8.1->pandas) (1.16.0)\n"
          ]
        }
      ]
    },
    {
      "cell_type": "code",
      "source": [
        "import streamlit as st\n",
        "import pandas as pd"
      ],
      "metadata": {
        "id": "Ahlxr8n-fHW9"
      },
      "execution_count": 25,
      "outputs": []
    },
    {
      "cell_type": "code",
      "source": [
        "# https://www.twse.com.tw/zh/page/products/stock-code2.html\n",
        "# TAI_TWO_ind=\"https://isin.twse.com.tw/isin/C_public.jsp?strMode=4\"\n",
        "\n",
        "TAI_ind='https://isin.twse.com.tw/isin/C_public.jsp?strMode=2'\n",
        "# data encoded in Traditional Chinese, 資料使用繁體中文編碼\n",
        "df=pd.read_html(TAI_ind,encoding='cp950')"
      ],
      "metadata": {
        "id": "FHqrnpfZfN_P"
      },
      "execution_count": 26,
      "outputs": []
    },
    {
      "cell_type": "code",
      "source": [
        "len(df)"
      ],
      "metadata": {
        "colab": {
          "base_uri": "https://localhost:8080/"
        },
        "id": "gfmLVyRNgZCf",
        "outputId": "56ad1837-4ee2-4b68-c99a-fafcf30529d6"
      },
      "execution_count": 27,
      "outputs": [
        {
          "output_type": "execute_result",
          "data": {
            "text/plain": [
              "1"
            ]
          },
          "metadata": {},
          "execution_count": 27
        }
      ]
    },
    {
      "cell_type": "markdown",
      "source": [],
      "metadata": {
        "id": "vpCIjEOFgko_"
      }
    },
    {
      "cell_type": "code",
      "source": [
        "# the data in the first page (table)\n",
        "# only the first feature, 有價證券代號及名稱, we want, \n",
        "df[0]"
      ],
      "metadata": {
        "colab": {
          "base_uri": "https://localhost:8080/",
          "height": 641
        },
        "id": "fVLXwMLQfYOT",
        "outputId": "f78cfbab-33d6-4653-968e-e1c5a8e4da34"
      },
      "execution_count": 28,
      "outputs": [
        {
          "output_type": "execute_result",
          "data": {
            "text/plain": [
              "                   0                    1           2    3     4        5    6\n",
              "0          有價證券代號及名稱  國際證券辨識號碼(ISIN Code)         上市日  市場別   產業別  CFICode   備註\n",
              "1                 股票                   股票          股票   股票    股票       股票   股票\n",
              "2            1101　台泥         TW0001101004  1962/02/09   上市  水泥工業   ESVUFR  NaN\n",
              "3            1102　亞泥         TW0001102002  1962/06/08   上市  水泥工業   ESVUFR  NaN\n",
              "4            1103　嘉泥         TW0001103000  1969/11/14   上市  水泥工業   ESVUFR  NaN\n",
              "...              ...                  ...         ...  ...   ...      ...  ...\n",
              "24630  01003T　兆豐新光R1         TW00001003T4  2005/12/26   上市   NaN   CBCIXU  NaN\n",
              "24631  01004T　土銀富邦R2         TW00001004T2  2006/04/13   上市   NaN   CBCIXU  NaN\n",
              "24632  01007T　兆豐國泰R2         TW00001007T5  2006/10/13   上市   NaN   CBCIXU  NaN\n",
              "24633  01009T　王道圓滿R1         TW00001009T1  2018/06/21   上市   NaN   CBCIXU  NaN\n",
              "24634  01010T　京城樂富R1         TW00001010T9  2018/12/05   上市   NaN   CBCIXU  NaN\n",
              "\n",
              "[24635 rows x 7 columns]"
            ],
            "text/html": [
              "\n",
              "  <div id=\"df-5c93f927-dd37-464d-9b44-c96608bf6d4e\">\n",
              "    <div class=\"colab-df-container\">\n",
              "      <div>\n",
              "<style scoped>\n",
              "    .dataframe tbody tr th:only-of-type {\n",
              "        vertical-align: middle;\n",
              "    }\n",
              "\n",
              "    .dataframe tbody tr th {\n",
              "        vertical-align: top;\n",
              "    }\n",
              "\n",
              "    .dataframe thead th {\n",
              "        text-align: right;\n",
              "    }\n",
              "</style>\n",
              "<table border=\"1\" class=\"dataframe\">\n",
              "  <thead>\n",
              "    <tr style=\"text-align: right;\">\n",
              "      <th></th>\n",
              "      <th>0</th>\n",
              "      <th>1</th>\n",
              "      <th>2</th>\n",
              "      <th>3</th>\n",
              "      <th>4</th>\n",
              "      <th>5</th>\n",
              "      <th>6</th>\n",
              "    </tr>\n",
              "  </thead>\n",
              "  <tbody>\n",
              "    <tr>\n",
              "      <th>0</th>\n",
              "      <td>有價證券代號及名稱</td>\n",
              "      <td>國際證券辨識號碼(ISIN Code)</td>\n",
              "      <td>上市日</td>\n",
              "      <td>市場別</td>\n",
              "      <td>產業別</td>\n",
              "      <td>CFICode</td>\n",
              "      <td>備註</td>\n",
              "    </tr>\n",
              "    <tr>\n",
              "      <th>1</th>\n",
              "      <td>股票</td>\n",
              "      <td>股票</td>\n",
              "      <td>股票</td>\n",
              "      <td>股票</td>\n",
              "      <td>股票</td>\n",
              "      <td>股票</td>\n",
              "      <td>股票</td>\n",
              "    </tr>\n",
              "    <tr>\n",
              "      <th>2</th>\n",
              "      <td>1101　台泥</td>\n",
              "      <td>TW0001101004</td>\n",
              "      <td>1962/02/09</td>\n",
              "      <td>上市</td>\n",
              "      <td>水泥工業</td>\n",
              "      <td>ESVUFR</td>\n",
              "      <td>NaN</td>\n",
              "    </tr>\n",
              "    <tr>\n",
              "      <th>3</th>\n",
              "      <td>1102　亞泥</td>\n",
              "      <td>TW0001102002</td>\n",
              "      <td>1962/06/08</td>\n",
              "      <td>上市</td>\n",
              "      <td>水泥工業</td>\n",
              "      <td>ESVUFR</td>\n",
              "      <td>NaN</td>\n",
              "    </tr>\n",
              "    <tr>\n",
              "      <th>4</th>\n",
              "      <td>1103　嘉泥</td>\n",
              "      <td>TW0001103000</td>\n",
              "      <td>1969/11/14</td>\n",
              "      <td>上市</td>\n",
              "      <td>水泥工業</td>\n",
              "      <td>ESVUFR</td>\n",
              "      <td>NaN</td>\n",
              "    </tr>\n",
              "    <tr>\n",
              "      <th>...</th>\n",
              "      <td>...</td>\n",
              "      <td>...</td>\n",
              "      <td>...</td>\n",
              "      <td>...</td>\n",
              "      <td>...</td>\n",
              "      <td>...</td>\n",
              "      <td>...</td>\n",
              "    </tr>\n",
              "    <tr>\n",
              "      <th>24630</th>\n",
              "      <td>01003T　兆豐新光R1</td>\n",
              "      <td>TW00001003T4</td>\n",
              "      <td>2005/12/26</td>\n",
              "      <td>上市</td>\n",
              "      <td>NaN</td>\n",
              "      <td>CBCIXU</td>\n",
              "      <td>NaN</td>\n",
              "    </tr>\n",
              "    <tr>\n",
              "      <th>24631</th>\n",
              "      <td>01004T　土銀富邦R2</td>\n",
              "      <td>TW00001004T2</td>\n",
              "      <td>2006/04/13</td>\n",
              "      <td>上市</td>\n",
              "      <td>NaN</td>\n",
              "      <td>CBCIXU</td>\n",
              "      <td>NaN</td>\n",
              "    </tr>\n",
              "    <tr>\n",
              "      <th>24632</th>\n",
              "      <td>01007T　兆豐國泰R2</td>\n",
              "      <td>TW00001007T5</td>\n",
              "      <td>2006/10/13</td>\n",
              "      <td>上市</td>\n",
              "      <td>NaN</td>\n",
              "      <td>CBCIXU</td>\n",
              "      <td>NaN</td>\n",
              "    </tr>\n",
              "    <tr>\n",
              "      <th>24633</th>\n",
              "      <td>01009T　王道圓滿R1</td>\n",
              "      <td>TW00001009T1</td>\n",
              "      <td>2018/06/21</td>\n",
              "      <td>上市</td>\n",
              "      <td>NaN</td>\n",
              "      <td>CBCIXU</td>\n",
              "      <td>NaN</td>\n",
              "    </tr>\n",
              "    <tr>\n",
              "      <th>24634</th>\n",
              "      <td>01010T　京城樂富R1</td>\n",
              "      <td>TW00001010T9</td>\n",
              "      <td>2018/12/05</td>\n",
              "      <td>上市</td>\n",
              "      <td>NaN</td>\n",
              "      <td>CBCIXU</td>\n",
              "      <td>NaN</td>\n",
              "    </tr>\n",
              "  </tbody>\n",
              "</table>\n",
              "<p>24635 rows × 7 columns</p>\n",
              "</div>\n",
              "      <button class=\"colab-df-convert\" onclick=\"convertToInteractive('df-5c93f927-dd37-464d-9b44-c96608bf6d4e')\"\n",
              "              title=\"Convert this dataframe to an interactive table.\"\n",
              "              style=\"display:none;\">\n",
              "        \n",
              "  <svg xmlns=\"http://www.w3.org/2000/svg\" height=\"24px\"viewBox=\"0 0 24 24\"\n",
              "       width=\"24px\">\n",
              "    <path d=\"M0 0h24v24H0V0z\" fill=\"none\"/>\n",
              "    <path d=\"M18.56 5.44l.94 2.06.94-2.06 2.06-.94-2.06-.94-.94-2.06-.94 2.06-2.06.94zm-11 1L8.5 8.5l.94-2.06 2.06-.94-2.06-.94L8.5 2.5l-.94 2.06-2.06.94zm10 10l.94 2.06.94-2.06 2.06-.94-2.06-.94-.94-2.06-.94 2.06-2.06.94z\"/><path d=\"M17.41 7.96l-1.37-1.37c-.4-.4-.92-.59-1.43-.59-.52 0-1.04.2-1.43.59L10.3 9.45l-7.72 7.72c-.78.78-.78 2.05 0 2.83L4 21.41c.39.39.9.59 1.41.59.51 0 1.02-.2 1.41-.59l7.78-7.78 2.81-2.81c.8-.78.8-2.07 0-2.86zM5.41 20L4 18.59l7.72-7.72 1.47 1.35L5.41 20z\"/>\n",
              "  </svg>\n",
              "      </button>\n",
              "      \n",
              "  <style>\n",
              "    .colab-df-container {\n",
              "      display:flex;\n",
              "      flex-wrap:wrap;\n",
              "      gap: 12px;\n",
              "    }\n",
              "\n",
              "    .colab-df-convert {\n",
              "      background-color: #E8F0FE;\n",
              "      border: none;\n",
              "      border-radius: 50%;\n",
              "      cursor: pointer;\n",
              "      display: none;\n",
              "      fill: #1967D2;\n",
              "      height: 32px;\n",
              "      padding: 0 0 0 0;\n",
              "      width: 32px;\n",
              "    }\n",
              "\n",
              "    .colab-df-convert:hover {\n",
              "      background-color: #E2EBFA;\n",
              "      box-shadow: 0px 1px 2px rgba(60, 64, 67, 0.3), 0px 1px 3px 1px rgba(60, 64, 67, 0.15);\n",
              "      fill: #174EA6;\n",
              "    }\n",
              "\n",
              "    [theme=dark] .colab-df-convert {\n",
              "      background-color: #3B4455;\n",
              "      fill: #D2E3FC;\n",
              "    }\n",
              "\n",
              "    [theme=dark] .colab-df-convert:hover {\n",
              "      background-color: #434B5C;\n",
              "      box-shadow: 0px 1px 3px 1px rgba(0, 0, 0, 0.15);\n",
              "      filter: drop-shadow(0px 1px 2px rgba(0, 0, 0, 0.3));\n",
              "      fill: #FFFFFF;\n",
              "    }\n",
              "  </style>\n",
              "\n",
              "      <script>\n",
              "        const buttonEl =\n",
              "          document.querySelector('#df-5c93f927-dd37-464d-9b44-c96608bf6d4e button.colab-df-convert');\n",
              "        buttonEl.style.display =\n",
              "          google.colab.kernel.accessAllowed ? 'block' : 'none';\n",
              "\n",
              "        async function convertToInteractive(key) {\n",
              "          const element = document.querySelector('#df-5c93f927-dd37-464d-9b44-c96608bf6d4e');\n",
              "          const dataTable =\n",
              "            await google.colab.kernel.invokeFunction('convertToInteractive',\n",
              "                                                     [key], {});\n",
              "          if (!dataTable) return;\n",
              "\n",
              "          const docLinkHtml = 'Like what you see? Visit the ' +\n",
              "            '<a target=\"_blank\" href=https://colab.research.google.com/notebooks/data_table.ipynb>data table notebook</a>'\n",
              "            + ' to learn more about interactive tables.';\n",
              "          element.innerHTML = '';\n",
              "          dataTable['output_type'] = 'display_data';\n",
              "          await google.colab.output.renderOutput(dataTable, element);\n",
              "          const docLink = document.createElement('div');\n",
              "          docLink.innerHTML = docLinkHtml;\n",
              "          element.appendChild(docLink);\n",
              "        }\n",
              "      </script>\n",
              "    </div>\n",
              "  </div>\n",
              "  "
            ]
          },
          "metadata": {},
          "execution_count": 28
        }
      ]
    },
    {
      "cell_type": "code",
      "source": [
        "# df[0][0][2:]\n",
        "#   first table, 第一個表格\n",
        "#      feature 0, 欄位 0\n",
        "#         start from third rows, i.e. 2\n",
        "\n",
        "df[0][0][2:].values"
      ],
      "metadata": {
        "colab": {
          "base_uri": "https://localhost:8080/"
        },
        "id": "YMkrPbQofa4_",
        "outputId": "981e996b-b9ba-4b07-df0b-7d569d7db48e"
      },
      "execution_count": 29,
      "outputs": [
        {
          "output_type": "execute_result",
          "data": {
            "text/plain": [
              "array(['1101\\u3000台泥', '1102\\u3000亞泥', '1103\\u3000嘉泥', ...,\n",
              "       '01007T\\u3000兆豐國泰R2', '01009T\\u3000王道圓滿R1', '01010T\\u3000京城樂富R1'],\n",
              "      dtype=object)"
            ]
          },
          "metadata": {},
          "execution_count": 29
        }
      ]
    },
    {
      "cell_type": "code",
      "source": [
        "# extract data and split by '\\u3000', 利用字元 '\\u3000' 將每一個欄位分成兩個, \n",
        "# create two-column DataFrame, \n",
        "data = df[0][0][2:].str.split('\\u3000', n=1, expand=True)\n",
        "\n",
        "# create two-column DataFrame, 將上述的兩個公開的資料成為新的欄位\n",
        "df1 = pd.DataFrame({'Symbol': data[0], 'Name': data[1]})\n",
        "\n",
        "# convert ticker to yahoo tick,  將上市公司的代碼變成 yahoo 代碼\n",
        "df1['Symbol'] = df1['Symbol'].apply(lambda x: x + '.TW')"
      ],
      "metadata": {
        "id": "O9epbCb1fd41"
      },
      "execution_count": 30,
      "outputs": []
    },
    {
      "cell_type": "code",
      "source": [
        "data"
      ],
      "metadata": {
        "colab": {
          "base_uri": "https://localhost:8080/",
          "height": 423
        },
        "id": "4Ah1g6UNgR2A",
        "outputId": "4d1ae19c-caad-4fbe-8824-2255e3016650"
      },
      "execution_count": 31,
      "outputs": [
        {
          "output_type": "execute_result",
          "data": {
            "text/plain": [
              "            0       1\n",
              "2        1101      台泥\n",
              "3        1102      亞泥\n",
              "4        1103      嘉泥\n",
              "5        1104      環泥\n",
              "6        1108      幸福\n",
              "...       ...     ...\n",
              "24630  01003T  兆豐新光R1\n",
              "24631  01004T  土銀富邦R2\n",
              "24632  01007T  兆豐國泰R2\n",
              "24633  01009T  王道圓滿R1\n",
              "24634  01010T  京城樂富R1\n",
              "\n",
              "[24633 rows x 2 columns]"
            ],
            "text/html": [
              "\n",
              "  <div id=\"df-d9f6f1d1-5e20-4ea0-a3ff-4f7fa11cf555\">\n",
              "    <div class=\"colab-df-container\">\n",
              "      <div>\n",
              "<style scoped>\n",
              "    .dataframe tbody tr th:only-of-type {\n",
              "        vertical-align: middle;\n",
              "    }\n",
              "\n",
              "    .dataframe tbody tr th {\n",
              "        vertical-align: top;\n",
              "    }\n",
              "\n",
              "    .dataframe thead th {\n",
              "        text-align: right;\n",
              "    }\n",
              "</style>\n",
              "<table border=\"1\" class=\"dataframe\">\n",
              "  <thead>\n",
              "    <tr style=\"text-align: right;\">\n",
              "      <th></th>\n",
              "      <th>0</th>\n",
              "      <th>1</th>\n",
              "    </tr>\n",
              "  </thead>\n",
              "  <tbody>\n",
              "    <tr>\n",
              "      <th>2</th>\n",
              "      <td>1101</td>\n",
              "      <td>台泥</td>\n",
              "    </tr>\n",
              "    <tr>\n",
              "      <th>3</th>\n",
              "      <td>1102</td>\n",
              "      <td>亞泥</td>\n",
              "    </tr>\n",
              "    <tr>\n",
              "      <th>4</th>\n",
              "      <td>1103</td>\n",
              "      <td>嘉泥</td>\n",
              "    </tr>\n",
              "    <tr>\n",
              "      <th>5</th>\n",
              "      <td>1104</td>\n",
              "      <td>環泥</td>\n",
              "    </tr>\n",
              "    <tr>\n",
              "      <th>6</th>\n",
              "      <td>1108</td>\n",
              "      <td>幸福</td>\n",
              "    </tr>\n",
              "    <tr>\n",
              "      <th>...</th>\n",
              "      <td>...</td>\n",
              "      <td>...</td>\n",
              "    </tr>\n",
              "    <tr>\n",
              "      <th>24630</th>\n",
              "      <td>01003T</td>\n",
              "      <td>兆豐新光R1</td>\n",
              "    </tr>\n",
              "    <tr>\n",
              "      <th>24631</th>\n",
              "      <td>01004T</td>\n",
              "      <td>土銀富邦R2</td>\n",
              "    </tr>\n",
              "    <tr>\n",
              "      <th>24632</th>\n",
              "      <td>01007T</td>\n",
              "      <td>兆豐國泰R2</td>\n",
              "    </tr>\n",
              "    <tr>\n",
              "      <th>24633</th>\n",
              "      <td>01009T</td>\n",
              "      <td>王道圓滿R1</td>\n",
              "    </tr>\n",
              "    <tr>\n",
              "      <th>24634</th>\n",
              "      <td>01010T</td>\n",
              "      <td>京城樂富R1</td>\n",
              "    </tr>\n",
              "  </tbody>\n",
              "</table>\n",
              "<p>24633 rows × 2 columns</p>\n",
              "</div>\n",
              "      <button class=\"colab-df-convert\" onclick=\"convertToInteractive('df-d9f6f1d1-5e20-4ea0-a3ff-4f7fa11cf555')\"\n",
              "              title=\"Convert this dataframe to an interactive table.\"\n",
              "              style=\"display:none;\">\n",
              "        \n",
              "  <svg xmlns=\"http://www.w3.org/2000/svg\" height=\"24px\"viewBox=\"0 0 24 24\"\n",
              "       width=\"24px\">\n",
              "    <path d=\"M0 0h24v24H0V0z\" fill=\"none\"/>\n",
              "    <path d=\"M18.56 5.44l.94 2.06.94-2.06 2.06-.94-2.06-.94-.94-2.06-.94 2.06-2.06.94zm-11 1L8.5 8.5l.94-2.06 2.06-.94-2.06-.94L8.5 2.5l-.94 2.06-2.06.94zm10 10l.94 2.06.94-2.06 2.06-.94-2.06-.94-.94-2.06-.94 2.06-2.06.94z\"/><path d=\"M17.41 7.96l-1.37-1.37c-.4-.4-.92-.59-1.43-.59-.52 0-1.04.2-1.43.59L10.3 9.45l-7.72 7.72c-.78.78-.78 2.05 0 2.83L4 21.41c.39.39.9.59 1.41.59.51 0 1.02-.2 1.41-.59l7.78-7.78 2.81-2.81c.8-.78.8-2.07 0-2.86zM5.41 20L4 18.59l7.72-7.72 1.47 1.35L5.41 20z\"/>\n",
              "  </svg>\n",
              "      </button>\n",
              "      \n",
              "  <style>\n",
              "    .colab-df-container {\n",
              "      display:flex;\n",
              "      flex-wrap:wrap;\n",
              "      gap: 12px;\n",
              "    }\n",
              "\n",
              "    .colab-df-convert {\n",
              "      background-color: #E8F0FE;\n",
              "      border: none;\n",
              "      border-radius: 50%;\n",
              "      cursor: pointer;\n",
              "      display: none;\n",
              "      fill: #1967D2;\n",
              "      height: 32px;\n",
              "      padding: 0 0 0 0;\n",
              "      width: 32px;\n",
              "    }\n",
              "\n",
              "    .colab-df-convert:hover {\n",
              "      background-color: #E2EBFA;\n",
              "      box-shadow: 0px 1px 2px rgba(60, 64, 67, 0.3), 0px 1px 3px 1px rgba(60, 64, 67, 0.15);\n",
              "      fill: #174EA6;\n",
              "    }\n",
              "\n",
              "    [theme=dark] .colab-df-convert {\n",
              "      background-color: #3B4455;\n",
              "      fill: #D2E3FC;\n",
              "    }\n",
              "\n",
              "    [theme=dark] .colab-df-convert:hover {\n",
              "      background-color: #434B5C;\n",
              "      box-shadow: 0px 1px 3px 1px rgba(0, 0, 0, 0.15);\n",
              "      filter: drop-shadow(0px 1px 2px rgba(0, 0, 0, 0.3));\n",
              "      fill: #FFFFFF;\n",
              "    }\n",
              "  </style>\n",
              "\n",
              "      <script>\n",
              "        const buttonEl =\n",
              "          document.querySelector('#df-d9f6f1d1-5e20-4ea0-a3ff-4f7fa11cf555 button.colab-df-convert');\n",
              "        buttonEl.style.display =\n",
              "          google.colab.kernel.accessAllowed ? 'block' : 'none';\n",
              "\n",
              "        async function convertToInteractive(key) {\n",
              "          const element = document.querySelector('#df-d9f6f1d1-5e20-4ea0-a3ff-4f7fa11cf555');\n",
              "          const dataTable =\n",
              "            await google.colab.kernel.invokeFunction('convertToInteractive',\n",
              "                                                     [key], {});\n",
              "          if (!dataTable) return;\n",
              "\n",
              "          const docLinkHtml = 'Like what you see? Visit the ' +\n",
              "            '<a target=\"_blank\" href=https://colab.research.google.com/notebooks/data_table.ipynb>data table notebook</a>'\n",
              "            + ' to learn more about interactive tables.';\n",
              "          element.innerHTML = '';\n",
              "          dataTable['output_type'] = 'display_data';\n",
              "          await google.colab.output.renderOutput(dataTable, element);\n",
              "          const docLink = document.createElement('div');\n",
              "          docLink.innerHTML = docLinkHtml;\n",
              "          element.appendChild(docLink);\n",
              "        }\n",
              "      </script>\n",
              "    </div>\n",
              "  </div>\n",
              "  "
            ]
          },
          "metadata": {},
          "execution_count": 31
        }
      ]
    },
    {
      "cell_type": "code",
      "source": [
        "df1.head()"
      ],
      "metadata": {
        "colab": {
          "base_uri": "https://localhost:8080/",
          "height": 206
        },
        "id": "NYPD1ZoYfgj1",
        "outputId": "15caeeca-fde2-4764-e77c-9bd41dcffe3b"
      },
      "execution_count": 32,
      "outputs": [
        {
          "output_type": "execute_result",
          "data": {
            "text/plain": [
              "    Symbol Name\n",
              "2  1101.TW   台泥\n",
              "3  1102.TW   亞泥\n",
              "4  1103.TW   嘉泥\n",
              "5  1104.TW   環泥\n",
              "6  1108.TW   幸福"
            ],
            "text/html": [
              "\n",
              "  <div id=\"df-1550f7ce-e059-4783-a7ca-bf1c16ddb79a\">\n",
              "    <div class=\"colab-df-container\">\n",
              "      <div>\n",
              "<style scoped>\n",
              "    .dataframe tbody tr th:only-of-type {\n",
              "        vertical-align: middle;\n",
              "    }\n",
              "\n",
              "    .dataframe tbody tr th {\n",
              "        vertical-align: top;\n",
              "    }\n",
              "\n",
              "    .dataframe thead th {\n",
              "        text-align: right;\n",
              "    }\n",
              "</style>\n",
              "<table border=\"1\" class=\"dataframe\">\n",
              "  <thead>\n",
              "    <tr style=\"text-align: right;\">\n",
              "      <th></th>\n",
              "      <th>Symbol</th>\n",
              "      <th>Name</th>\n",
              "    </tr>\n",
              "  </thead>\n",
              "  <tbody>\n",
              "    <tr>\n",
              "      <th>2</th>\n",
              "      <td>1101.TW</td>\n",
              "      <td>台泥</td>\n",
              "    </tr>\n",
              "    <tr>\n",
              "      <th>3</th>\n",
              "      <td>1102.TW</td>\n",
              "      <td>亞泥</td>\n",
              "    </tr>\n",
              "    <tr>\n",
              "      <th>4</th>\n",
              "      <td>1103.TW</td>\n",
              "      <td>嘉泥</td>\n",
              "    </tr>\n",
              "    <tr>\n",
              "      <th>5</th>\n",
              "      <td>1104.TW</td>\n",
              "      <td>環泥</td>\n",
              "    </tr>\n",
              "    <tr>\n",
              "      <th>6</th>\n",
              "      <td>1108.TW</td>\n",
              "      <td>幸福</td>\n",
              "    </tr>\n",
              "  </tbody>\n",
              "</table>\n",
              "</div>\n",
              "      <button class=\"colab-df-convert\" onclick=\"convertToInteractive('df-1550f7ce-e059-4783-a7ca-bf1c16ddb79a')\"\n",
              "              title=\"Convert this dataframe to an interactive table.\"\n",
              "              style=\"display:none;\">\n",
              "        \n",
              "  <svg xmlns=\"http://www.w3.org/2000/svg\" height=\"24px\"viewBox=\"0 0 24 24\"\n",
              "       width=\"24px\">\n",
              "    <path d=\"M0 0h24v24H0V0z\" fill=\"none\"/>\n",
              "    <path d=\"M18.56 5.44l.94 2.06.94-2.06 2.06-.94-2.06-.94-.94-2.06-.94 2.06-2.06.94zm-11 1L8.5 8.5l.94-2.06 2.06-.94-2.06-.94L8.5 2.5l-.94 2.06-2.06.94zm10 10l.94 2.06.94-2.06 2.06-.94-2.06-.94-.94-2.06-.94 2.06-2.06.94z\"/><path d=\"M17.41 7.96l-1.37-1.37c-.4-.4-.92-.59-1.43-.59-.52 0-1.04.2-1.43.59L10.3 9.45l-7.72 7.72c-.78.78-.78 2.05 0 2.83L4 21.41c.39.39.9.59 1.41.59.51 0 1.02-.2 1.41-.59l7.78-7.78 2.81-2.81c.8-.78.8-2.07 0-2.86zM5.41 20L4 18.59l7.72-7.72 1.47 1.35L5.41 20z\"/>\n",
              "  </svg>\n",
              "      </button>\n",
              "      \n",
              "  <style>\n",
              "    .colab-df-container {\n",
              "      display:flex;\n",
              "      flex-wrap:wrap;\n",
              "      gap: 12px;\n",
              "    }\n",
              "\n",
              "    .colab-df-convert {\n",
              "      background-color: #E8F0FE;\n",
              "      border: none;\n",
              "      border-radius: 50%;\n",
              "      cursor: pointer;\n",
              "      display: none;\n",
              "      fill: #1967D2;\n",
              "      height: 32px;\n",
              "      padding: 0 0 0 0;\n",
              "      width: 32px;\n",
              "    }\n",
              "\n",
              "    .colab-df-convert:hover {\n",
              "      background-color: #E2EBFA;\n",
              "      box-shadow: 0px 1px 2px rgba(60, 64, 67, 0.3), 0px 1px 3px 1px rgba(60, 64, 67, 0.15);\n",
              "      fill: #174EA6;\n",
              "    }\n",
              "\n",
              "    [theme=dark] .colab-df-convert {\n",
              "      background-color: #3B4455;\n",
              "      fill: #D2E3FC;\n",
              "    }\n",
              "\n",
              "    [theme=dark] .colab-df-convert:hover {\n",
              "      background-color: #434B5C;\n",
              "      box-shadow: 0px 1px 3px 1px rgba(0, 0, 0, 0.15);\n",
              "      filter: drop-shadow(0px 1px 2px rgba(0, 0, 0, 0.3));\n",
              "      fill: #FFFFFF;\n",
              "    }\n",
              "  </style>\n",
              "\n",
              "      <script>\n",
              "        const buttonEl =\n",
              "          document.querySelector('#df-1550f7ce-e059-4783-a7ca-bf1c16ddb79a button.colab-df-convert');\n",
              "        buttonEl.style.display =\n",
              "          google.colab.kernel.accessAllowed ? 'block' : 'none';\n",
              "\n",
              "        async function convertToInteractive(key) {\n",
              "          const element = document.querySelector('#df-1550f7ce-e059-4783-a7ca-bf1c16ddb79a');\n",
              "          const dataTable =\n",
              "            await google.colab.kernel.invokeFunction('convertToInteractive',\n",
              "                                                     [key], {});\n",
              "          if (!dataTable) return;\n",
              "\n",
              "          const docLinkHtml = 'Like what you see? Visit the ' +\n",
              "            '<a target=\"_blank\" href=https://colab.research.google.com/notebooks/data_table.ipynb>data table notebook</a>'\n",
              "            + ' to learn more about interactive tables.';\n",
              "          element.innerHTML = '';\n",
              "          dataTable['output_type'] = 'display_data';\n",
              "          await google.colab.output.renderOutput(dataTable, element);\n",
              "          const docLink = document.createElement('div');\n",
              "          docLink.innerHTML = docLinkHtml;\n",
              "          element.appendChild(docLink);\n",
              "        }\n",
              "      </script>\n",
              "    </div>\n",
              "  </div>\n",
              "  "
            ]
          },
          "metadata": {},
          "execution_count": 32
        }
      ]
    },
    {
      "cell_type": "code",
      "source": [
        "# remove any null value in cell, 去掉沒資料的欄位\n",
        "df1.fillna('', inplace=True)\n",
        "\n",
        "# and save to a file, used in later, 並存成檔案供日後使用\n",
        "df1.to_csv(\"TWSE_TW-1.csv\",index=False)"
      ],
      "metadata": {
        "id": "XqC36ywmfi85"
      },
      "execution_count": 33,
      "outputs": []
    },
    {
      "cell_type": "markdown",
      "source": [
        "Techniques by ChatGPT\n",
        "---\n",
        "Honestly, this is almost completed by chatGPT, amazing! 這也是 chatGPT 完成的，神奇吧!\n",
        "\n",
        "In the following Query airtifact is implemented by streamlit; the comments are the statements used for chatGPT, enjoy!. 下列的應用程式是使用 streamlit 完成的，註解裡面的陳述，記載了如何使用 chatGPT.\n",
        "\n",
        "```python\n",
        "# 1. If use python to get the data as follows:\n",
        "\n",
        "#TAI_ind='https://isin.twse.com.tw/isin/C_public.jsp?strMode=2'\n",
        "#df=pd.read_html(TAI_ind,encoding='cp950')\n",
        "#df[0][0][2:].values\n",
        "\n",
        "# 2. Use Python to slice df[0][0][2:] into 2 two column Dataframe by space\n",
        "# 3. slice by \\u3000\n",
        "# 4. convert each cell in the first column by adding  '.TW'\n",
        "# 5. use streamlit to make a query system for column1 by column2 and vice versa\n",
        "# (*)6. 增加中英文 internationalization, (i18n) 選擇\n",
        "\n",
        "# main code\n",
        "import streamlit as st\n",
        "import pandas as pd\n",
        "\n",
        "# read data from the URL and create DataFrame\n",
        "\n",
        "df1=pd.read_csv(\"data/TWSE_TW-1.csv\",index_col=0)\n",
        "df1.fillna('', inplace=True)\n",
        "# set up Streamlit app\n",
        "st.title(\"TWSE Stock Search, 台灣股票代號查詢\")\n",
        "\n",
        "# add search box and dropdown\n",
        "search_term = st.text_input(\"Enter search term, 輸入查詢資料:\")\n",
        "search_by = st.selectbox(\"Search by column:\", options=['公司代碼', '公司名稱'])\n",
        "\n",
        "# search for matching rows\n",
        "if search_term:\n",
        "    if search_by == 'Symbol':\n",
        "        result = df1[df1['Symbol'].str.contains(search_term)]\n",
        "    elif search_by == 'Name':\n",
        "        result = df1[df1['Name'].str.contains(search_term)]\n",
        "    else:\n",
        "        result = pd.DataFrame()\n",
        "    st.write(result)\n",
        "```"
      ],
      "metadata": {
        "id": "xpHsvXb9fkvx"
      }
    },
    {
      "cell_type": "code",
      "source": [
        "#Mount Google Drive to Colab\n",
        "from google.colab import drive\n",
        "drive.mount('/content/gdrive')"
      ],
      "metadata": {
        "colab": {
          "base_uri": "https://localhost:8080/"
        },
        "id": "791qnXR2kZ-f",
        "outputId": "cf66c412-ebab-432a-99cf-960c221ca4a0"
      },
      "execution_count": 58,
      "outputs": [
        {
          "output_type": "stream",
          "name": "stdout",
          "text": [
            "Mounted at /content/gdrive\n"
          ]
        }
      ]
    },
    {
      "cell_type": "code",
      "source": [
        "#Save a file to Google Drive\n",
        "with open('/content/gdrive/My Drive/my_file.txt','w')as f:\n",
        "  f.write('Hello World!')"
      ],
      "metadata": {
        "id": "hN1sxxJ_k-Tr"
      },
      "execution_count": 59,
      "outputs": []
    },
    {
      "cell_type": "code",
      "source": [
        "#Load a file from Google Drive\n",
        "with open ('/content/gdrive/My Drive/my_file.txt','r')as f:\n",
        "  print(f.read())"
      ],
      "metadata": {
        "colab": {
          "base_uri": "https://localhost:8080/"
        },
        "id": "QqNMLLsslddz",
        "outputId": "a41a9a67-a8d3-43e7-d3ac-55179054f9a1"
      },
      "execution_count": 42,
      "outputs": [
        {
          "output_type": "stream",
          "name": "stdout",
          "text": [
            "Hello World!\n"
          ]
        }
      ]
    },
    {
      "cell_type": "code",
      "source": [
        "Techniques by ChatGPT\n",
        "---\n",
        "Honestly, this is almost completed by chatGPT, amazing! 這也是 chatGPT 完成的，神奇吧!\n",
        "\n",
        "In the following Query airtifact is implemented by streamlit; the comments are the statements used for chatGPT, enjoy!. 下列的應用程式是使用 streamlit 完成的，註解裡面的陳述，記載了如何使用 chatGPT.\n",
        "\n",
        "```python\n",
        "# 1. If use python to get the data as follows:\n",
        "\n",
        "#TAI_ind='https://isin.twse.com.tw/isin/C_public.jsp?strMode=2'\n",
        "#df=pd.read_html(TAI_ind,encoding='cp950')\n",
        "#df[0][0][2:].values\n",
        "\n",
        "# 2. Use Python to slice df[0][0][2:] into 2 two column Dataframe by space\n",
        "# 3. slice by \\u3000\n",
        "# 4. convert each cell in the first column by adding  '.TW'\n",
        "# 5. use streamlit to make a query system for column1 by column2 and vice versa\n",
        "# (*)6. 增加中英文 internationalization, (i18n) 選擇\n",
        "\n",
        "# main code\n",
        "import streamlit as st\n",
        "import pandas as pd\n",
        "\n",
        "# read data from the URL and create DataFrame\n",
        "\n",
        "df1=pd.read_csv(\"data/TWSE_TW-1.csv\",index_col=0)\n",
        "df1.fillna('', inplace=True)\n",
        "# set up Streamlit app\n",
        "st.title(\"TWSE Stock Search, 台灣股票代號查詢\")\n",
        "\n",
        "# add search box and dropdown\n",
        "search_term = st.text_input(\"Enter search term, 輸入查詢資料:\")\n",
        "search_by = st.selectbox(\"Search by column:\", options=['公司代碼', '公司名稱'])\n",
        "\n",
        "# search for matching rows\n",
        "if search_term:\n",
        "    if search_by == 'Symbol':\n",
        "        result = df1[df1['Symbol'].str.contains(search_term)]\n",
        "    elif search_by == 'Name':\n",
        "        result = df1[df1['Name'].str.contains(search_term)]\n",
        "    else:\n",
        "        result = pd.DataFrame()\n",
        "    st.write(result)\n",
        "```"
      ],
      "metadata": {
        "id": "cTwcHK_To6Jn"
      },
      "execution_count": null,
      "outputs": []
    },
    {
      "cell_type": "code",
      "source": [
        "from google.colab import drive\n",
        "drive.mount('/content/gdrive')\n",
        "\n",
        "file='/content/gdrive/My Drive/TWSE_TW-1(1).csv_'\n",
        "with open(file,'w')as f:\n",
        "  df1.to_csv(f)"
      ],
      "metadata": {
        "colab": {
          "base_uri": "https://localhost:8080/"
        },
        "id": "pKjhZleFl4nB",
        "outputId": "34853ef7-0677-4024-9ed3-55cd73dd44d1"
      },
      "execution_count": 62,
      "outputs": [
        {
          "output_type": "stream",
          "name": "stdout",
          "text": [
            "Mounted at /content/gdrive\n"
          ]
        }
      ]
    },
    {
      "cell_type": "code",
      "source": [
        "# 1. If use python to get the data as follows:\n",
        "\n",
        "#TAI_ind='https://isin.twse.com.tw/isin/C_public.jsp?strMode=2'\n",
        "#df=pd.read_html(TAI_ind,encoding='cp950')\n",
        "#df[0][0][2:].values\n",
        "# 2. Use Python to slice df[0][0][2:] into 2 two column Dataframe by space\n",
        "# 3. slice by \\u3000\n",
        "# 4. convert each cell in the first column by adding  '.TW'\n",
        "# 5. use streamlit to make a query system for column1 by column2 and vice versa\n",
        "# (*)6. 增加中英文 internationalization, (i18n) 選擇"
      ],
      "metadata": {
        "id": "K3G5A5AQpFyk"
      },
      "execution_count": 66,
      "outputs": []
    },
    {
      "cell_type": "code",
      "source": [
        "# main code\n",
        "import streamlit as st\n",
        "import pandas as pd"
      ],
      "metadata": {
        "id": "H5OUDRA7pLbU"
      },
      "execution_count": 67,
      "outputs": []
    },
    {
      "cell_type": "code",
      "source": [
        "# read data from the URL and create DataFrame\n",
        "\n",
        "df1=pd.read_csv(\"TWSE_TW-1.csv\",index_col=0)\n",
        "df1.fillna('', inplace=True)\n",
        "# set up Streamlit app\n",
        "st.title(\"TWSE Stock Search, 台灣股票代號查詢\")"
      ],
      "metadata": {
        "colab": {
          "base_uri": "https://localhost:8080/"
        },
        "id": "Hz1nVQvqpNQU",
        "outputId": "9b5dcaf2-ac9e-45b2-9310-7f2d8fed64ea"
      },
      "execution_count": 69,
      "outputs": [
        {
          "output_type": "execute_result",
          "data": {
            "text/plain": [
              "DeltaGenerator(_root_container=0, _provided_cursor=None, _parent=None, _block_type=None, _form_data=None)"
            ]
          },
          "metadata": {},
          "execution_count": 69
        }
      ]
    },
    {
      "cell_type": "code",
      "source": [
        "# add search box and dropdown\n",
        "search_term = st.text_input(\"Enter search term, 輸入查詢資料:\")\n",
        "search_by = st.selectbox(\"Search by column:\", options=['公司代碼', '公司名稱'])"
      ],
      "metadata": {
        "id": "lgtN6238pRoQ"
      },
      "execution_count": 70,
      "outputs": []
    },
    {
      "cell_type": "code",
      "source": [
        "# search for matching rows\n",
        "if search_term:\n",
        "    if search_by == 'Symbol':\n",
        "        result = df1[df1['Symbol'].str.contains(search_term)]\n",
        "    elif search_by == 'Name':\n",
        "        result = df1[df1['Name'].str.contains(search_term)]\n",
        "    else:\n",
        "        result = pd.DataFrame()\n",
        "    st.write(result)"
      ],
      "metadata": {
        "id": "X_4UVH2zpThS"
      },
      "execution_count": 71,
      "outputs": []
    },
    {
      "cell_type": "code",
      "source": [
        "df2=pd.read_csv(\"TWSE_TW-1.csv\")\n",
        "df2.head()"
      ],
      "metadata": {
        "colab": {
          "base_uri": "https://localhost:8080/",
          "height": 206
        },
        "id": "tj6tDm6uguMh",
        "outputId": "107f429f-3c5f-45a1-9839-5f7ddc7daf30"
      },
      "execution_count": 63,
      "outputs": [
        {
          "output_type": "execute_result",
          "data": {
            "text/plain": [
              "    Symbol Name\n",
              "0  1101.TW   台泥\n",
              "1  1102.TW   亞泥\n",
              "2  1103.TW   嘉泥\n",
              "3  1104.TW   環泥\n",
              "4  1108.TW   幸福"
            ],
            "text/html": [
              "\n",
              "  <div id=\"df-8f3ca792-3aa3-4ecf-8971-7262b068d2a7\">\n",
              "    <div class=\"colab-df-container\">\n",
              "      <div>\n",
              "<style scoped>\n",
              "    .dataframe tbody tr th:only-of-type {\n",
              "        vertical-align: middle;\n",
              "    }\n",
              "\n",
              "    .dataframe tbody tr th {\n",
              "        vertical-align: top;\n",
              "    }\n",
              "\n",
              "    .dataframe thead th {\n",
              "        text-align: right;\n",
              "    }\n",
              "</style>\n",
              "<table border=\"1\" class=\"dataframe\">\n",
              "  <thead>\n",
              "    <tr style=\"text-align: right;\">\n",
              "      <th></th>\n",
              "      <th>Symbol</th>\n",
              "      <th>Name</th>\n",
              "    </tr>\n",
              "  </thead>\n",
              "  <tbody>\n",
              "    <tr>\n",
              "      <th>0</th>\n",
              "      <td>1101.TW</td>\n",
              "      <td>台泥</td>\n",
              "    </tr>\n",
              "    <tr>\n",
              "      <th>1</th>\n",
              "      <td>1102.TW</td>\n",
              "      <td>亞泥</td>\n",
              "    </tr>\n",
              "    <tr>\n",
              "      <th>2</th>\n",
              "      <td>1103.TW</td>\n",
              "      <td>嘉泥</td>\n",
              "    </tr>\n",
              "    <tr>\n",
              "      <th>3</th>\n",
              "      <td>1104.TW</td>\n",
              "      <td>環泥</td>\n",
              "    </tr>\n",
              "    <tr>\n",
              "      <th>4</th>\n",
              "      <td>1108.TW</td>\n",
              "      <td>幸福</td>\n",
              "    </tr>\n",
              "  </tbody>\n",
              "</table>\n",
              "</div>\n",
              "      <button class=\"colab-df-convert\" onclick=\"convertToInteractive('df-8f3ca792-3aa3-4ecf-8971-7262b068d2a7')\"\n",
              "              title=\"Convert this dataframe to an interactive table.\"\n",
              "              style=\"display:none;\">\n",
              "        \n",
              "  <svg xmlns=\"http://www.w3.org/2000/svg\" height=\"24px\"viewBox=\"0 0 24 24\"\n",
              "       width=\"24px\">\n",
              "    <path d=\"M0 0h24v24H0V0z\" fill=\"none\"/>\n",
              "    <path d=\"M18.56 5.44l.94 2.06.94-2.06 2.06-.94-2.06-.94-.94-2.06-.94 2.06-2.06.94zm-11 1L8.5 8.5l.94-2.06 2.06-.94-2.06-.94L8.5 2.5l-.94 2.06-2.06.94zm10 10l.94 2.06.94-2.06 2.06-.94-2.06-.94-.94-2.06-.94 2.06-2.06.94z\"/><path d=\"M17.41 7.96l-1.37-1.37c-.4-.4-.92-.59-1.43-.59-.52 0-1.04.2-1.43.59L10.3 9.45l-7.72 7.72c-.78.78-.78 2.05 0 2.83L4 21.41c.39.39.9.59 1.41.59.51 0 1.02-.2 1.41-.59l7.78-7.78 2.81-2.81c.8-.78.8-2.07 0-2.86zM5.41 20L4 18.59l7.72-7.72 1.47 1.35L5.41 20z\"/>\n",
              "  </svg>\n",
              "      </button>\n",
              "      \n",
              "  <style>\n",
              "    .colab-df-container {\n",
              "      display:flex;\n",
              "      flex-wrap:wrap;\n",
              "      gap: 12px;\n",
              "    }\n",
              "\n",
              "    .colab-df-convert {\n",
              "      background-color: #E8F0FE;\n",
              "      border: none;\n",
              "      border-radius: 50%;\n",
              "      cursor: pointer;\n",
              "      display: none;\n",
              "      fill: #1967D2;\n",
              "      height: 32px;\n",
              "      padding: 0 0 0 0;\n",
              "      width: 32px;\n",
              "    }\n",
              "\n",
              "    .colab-df-convert:hover {\n",
              "      background-color: #E2EBFA;\n",
              "      box-shadow: 0px 1px 2px rgba(60, 64, 67, 0.3), 0px 1px 3px 1px rgba(60, 64, 67, 0.15);\n",
              "      fill: #174EA6;\n",
              "    }\n",
              "\n",
              "    [theme=dark] .colab-df-convert {\n",
              "      background-color: #3B4455;\n",
              "      fill: #D2E3FC;\n",
              "    }\n",
              "\n",
              "    [theme=dark] .colab-df-convert:hover {\n",
              "      background-color: #434B5C;\n",
              "      box-shadow: 0px 1px 3px 1px rgba(0, 0, 0, 0.15);\n",
              "      filter: drop-shadow(0px 1px 2px rgba(0, 0, 0, 0.3));\n",
              "      fill: #FFFFFF;\n",
              "    }\n",
              "  </style>\n",
              "\n",
              "      <script>\n",
              "        const buttonEl =\n",
              "          document.querySelector('#df-8f3ca792-3aa3-4ecf-8971-7262b068d2a7 button.colab-df-convert');\n",
              "        buttonEl.style.display =\n",
              "          google.colab.kernel.accessAllowed ? 'block' : 'none';\n",
              "\n",
              "        async function convertToInteractive(key) {\n",
              "          const element = document.querySelector('#df-8f3ca792-3aa3-4ecf-8971-7262b068d2a7');\n",
              "          const dataTable =\n",
              "            await google.colab.kernel.invokeFunction('convertToInteractive',\n",
              "                                                     [key], {});\n",
              "          if (!dataTable) return;\n",
              "\n",
              "          const docLinkHtml = 'Like what you see? Visit the ' +\n",
              "            '<a target=\"_blank\" href=https://colab.research.google.com/notebooks/data_table.ipynb>data table notebook</a>'\n",
              "            + ' to learn more about interactive tables.';\n",
              "          element.innerHTML = '';\n",
              "          dataTable['output_type'] = 'display_data';\n",
              "          await google.colab.output.renderOutput(dataTable, element);\n",
              "          const docLink = document.createElement('div');\n",
              "          docLink.innerHTML = docLinkHtml;\n",
              "          element.appendChild(docLink);\n",
              "        }\n",
              "      </script>\n",
              "    </div>\n",
              "  </div>\n",
              "  "
            ]
          },
          "metadata": {},
          "execution_count": 63
        }
      ]
    },
    {
      "cell_type": "code",
      "source": [
        "df1=pd.read_csv(\"/content/gdrive/My Drive/TWSE_TW-1(1).csv_\")\n",
        "df1[df1['Symbol'].str.contains('3008.TW')]"
      ],
      "metadata": {
        "colab": {
          "base_uri": "https://localhost:8080/",
          "height": 112
        },
        "id": "aZG20xcYhXtz",
        "outputId": "3d18793d-cbba-4234-af29-79fd18f3ae04"
      },
      "execution_count": 74,
      "outputs": [
        {
          "output_type": "execute_result",
          "data": {
            "text/plain": [
              "      Unnamed: 0     Symbol       Name\n",
              "510          512    3008.TW        大立光\n",
              "4475        4477  033008.TW  晶華中信26購01"
            ],
            "text/html": [
              "\n",
              "  <div id=\"df-00dc2f9f-f8a3-448e-8775-8cfc7211f40f\">\n",
              "    <div class=\"colab-df-container\">\n",
              "      <div>\n",
              "<style scoped>\n",
              "    .dataframe tbody tr th:only-of-type {\n",
              "        vertical-align: middle;\n",
              "    }\n",
              "\n",
              "    .dataframe tbody tr th {\n",
              "        vertical-align: top;\n",
              "    }\n",
              "\n",
              "    .dataframe thead th {\n",
              "        text-align: right;\n",
              "    }\n",
              "</style>\n",
              "<table border=\"1\" class=\"dataframe\">\n",
              "  <thead>\n",
              "    <tr style=\"text-align: right;\">\n",
              "      <th></th>\n",
              "      <th>Unnamed: 0</th>\n",
              "      <th>Symbol</th>\n",
              "      <th>Name</th>\n",
              "    </tr>\n",
              "  </thead>\n",
              "  <tbody>\n",
              "    <tr>\n",
              "      <th>510</th>\n",
              "      <td>512</td>\n",
              "      <td>3008.TW</td>\n",
              "      <td>大立光</td>\n",
              "    </tr>\n",
              "    <tr>\n",
              "      <th>4475</th>\n",
              "      <td>4477</td>\n",
              "      <td>033008.TW</td>\n",
              "      <td>晶華中信26購01</td>\n",
              "    </tr>\n",
              "  </tbody>\n",
              "</table>\n",
              "</div>\n",
              "      <button class=\"colab-df-convert\" onclick=\"convertToInteractive('df-00dc2f9f-f8a3-448e-8775-8cfc7211f40f')\"\n",
              "              title=\"Convert this dataframe to an interactive table.\"\n",
              "              style=\"display:none;\">\n",
              "        \n",
              "  <svg xmlns=\"http://www.w3.org/2000/svg\" height=\"24px\"viewBox=\"0 0 24 24\"\n",
              "       width=\"24px\">\n",
              "    <path d=\"M0 0h24v24H0V0z\" fill=\"none\"/>\n",
              "    <path d=\"M18.56 5.44l.94 2.06.94-2.06 2.06-.94-2.06-.94-.94-2.06-.94 2.06-2.06.94zm-11 1L8.5 8.5l.94-2.06 2.06-.94-2.06-.94L8.5 2.5l-.94 2.06-2.06.94zm10 10l.94 2.06.94-2.06 2.06-.94-2.06-.94-.94-2.06-.94 2.06-2.06.94z\"/><path d=\"M17.41 7.96l-1.37-1.37c-.4-.4-.92-.59-1.43-.59-.52 0-1.04.2-1.43.59L10.3 9.45l-7.72 7.72c-.78.78-.78 2.05 0 2.83L4 21.41c.39.39.9.59 1.41.59.51 0 1.02-.2 1.41-.59l7.78-7.78 2.81-2.81c.8-.78.8-2.07 0-2.86zM5.41 20L4 18.59l7.72-7.72 1.47 1.35L5.41 20z\"/>\n",
              "  </svg>\n",
              "      </button>\n",
              "      \n",
              "  <style>\n",
              "    .colab-df-container {\n",
              "      display:flex;\n",
              "      flex-wrap:wrap;\n",
              "      gap: 12px;\n",
              "    }\n",
              "\n",
              "    .colab-df-convert {\n",
              "      background-color: #E8F0FE;\n",
              "      border: none;\n",
              "      border-radius: 50%;\n",
              "      cursor: pointer;\n",
              "      display: none;\n",
              "      fill: #1967D2;\n",
              "      height: 32px;\n",
              "      padding: 0 0 0 0;\n",
              "      width: 32px;\n",
              "    }\n",
              "\n",
              "    .colab-df-convert:hover {\n",
              "      background-color: #E2EBFA;\n",
              "      box-shadow: 0px 1px 2px rgba(60, 64, 67, 0.3), 0px 1px 3px 1px rgba(60, 64, 67, 0.15);\n",
              "      fill: #174EA6;\n",
              "    }\n",
              "\n",
              "    [theme=dark] .colab-df-convert {\n",
              "      background-color: #3B4455;\n",
              "      fill: #D2E3FC;\n",
              "    }\n",
              "\n",
              "    [theme=dark] .colab-df-convert:hover {\n",
              "      background-color: #434B5C;\n",
              "      box-shadow: 0px 1px 3px 1px rgba(0, 0, 0, 0.15);\n",
              "      filter: drop-shadow(0px 1px 2px rgba(0, 0, 0, 0.3));\n",
              "      fill: #FFFFFF;\n",
              "    }\n",
              "  </style>\n",
              "\n",
              "      <script>\n",
              "        const buttonEl =\n",
              "          document.querySelector('#df-00dc2f9f-f8a3-448e-8775-8cfc7211f40f button.colab-df-convert');\n",
              "        buttonEl.style.display =\n",
              "          google.colab.kernel.accessAllowed ? 'block' : 'none';\n",
              "\n",
              "        async function convertToInteractive(key) {\n",
              "          const element = document.querySelector('#df-00dc2f9f-f8a3-448e-8775-8cfc7211f40f');\n",
              "          const dataTable =\n",
              "            await google.colab.kernel.invokeFunction('convertToInteractive',\n",
              "                                                     [key], {});\n",
              "          if (!dataTable) return;\n",
              "\n",
              "          const docLinkHtml = 'Like what you see? Visit the ' +\n",
              "            '<a target=\"_blank\" href=https://colab.research.google.com/notebooks/data_table.ipynb>data table notebook</a>'\n",
              "            + ' to learn more about interactive tables.';\n",
              "          element.innerHTML = '';\n",
              "          dataTable['output_type'] = 'display_data';\n",
              "          await google.colab.output.renderOutput(dataTable, element);\n",
              "          const docLink = document.createElement('div');\n",
              "          docLink.innerHTML = docLinkHtml;\n",
              "          element.appendChild(docLink);\n",
              "        }\n",
              "      </script>\n",
              "    </div>\n",
              "  </div>\n",
              "  "
            ]
          },
          "metadata": {},
          "execution_count": 74
        }
      ]
    },
    {
      "cell_type": "markdown",
      "source": [
        "Note\n",
        "---\n",
        "1. Automatically detect whether the client comes from Taiwan, 自動判斷是我來自台灣的使用者 \n",
        "   - download [GeoLite2-Country.mmdb](https://git.io/GeoLite2-Country.mmdb), and put it on the sub-folder, data. 將下載的檔案放在子目錄中 data/.\n",
        "   - In brief, check whether the client's IP comes from Taiwan; if yes, return True, else return False. 如果使用者的\n",
        "   網址來自台灣，則回 True，或者為 False.\n",
        "   - code\n",
        "\n",
        "```python \n",
        "import geoip2.database\n",
        "\n",
        "# path to GeoLite2-Country.mmdb file\n",
        "reader = geoip2.database.Reader('path/to/GeoLite2-Country.mmdb')\n",
        "\n",
        "def is_client_from_taiwan(ip_address):\n",
        "    try:\n",
        "        response = reader.country(ip_address)\n",
        "        if response.country.iso_code == 'TW':\n",
        "            return True\n",
        "    except:\n",
        "        pass\n",
        "    return False\n",
        "\n",
        "# example usage\n",
        "client_ip = '123.456.789.123' # replace with actual client IP address\n",
        "if is_client_from_taiwan(client_ip):\n",
        "    print('Client is from Taiwan')\n",
        "else:\n",
        "    print('Client is not from Taiwan')\n",
        "```"
      ],
      "metadata": {
        "id": "qvSVv1tvpxi_"
      }
    },
    {
      "cell_type": "code",
      "source": [
        "from google.colab import drive\n",
        "drive.mount('/content/gdrive')\n",
        "\n",
        "file='/content/gdrive/My Drive/geoip2.database.mmdb'\n",
        "with open(file,'w')as f:\n",
        "  df2.to_csv(f)"
      ],
      "metadata": {
        "colab": {
          "base_uri": "https://localhost:8080/"
        },
        "id": "Jctx71T7q3uU",
        "outputId": "1aacbdd9-d401-45e9-a201-86b6ddcf8d7d"
      },
      "execution_count": 93,
      "outputs": [
        {
          "output_type": "stream",
          "name": "stdout",
          "text": [
            "Drive already mounted at /content/gdrive; to attempt to forcibly remount, call drive.mount(\"/content/gdrive\", force_remount=True).\n"
          ]
        }
      ]
    },
    {
      "cell_type": "code",
      "source": [
        "!pip install geoip2"
      ],
      "metadata": {
        "colab": {
          "base_uri": "https://localhost:8080/"
        },
        "id": "ltI9hR1jr0OV",
        "outputId": "db52f686-587c-4983-d0a8-17e34017dfb8"
      },
      "execution_count": 95,
      "outputs": [
        {
          "output_type": "stream",
          "name": "stdout",
          "text": [
            "Looking in indexes: https://pypi.org/simple, https://us-python.pkg.dev/colab-wheels/public/simple/\n",
            "Collecting geoip2\n",
            "  Downloading geoip2-4.6.0-py2.py3-none-any.whl (26 kB)\n",
            "Collecting aiohttp<4.0.0,>=3.6.2\n",
            "  Downloading aiohttp-3.8.4-cp39-cp39-manylinux_2_17_x86_64.manylinux2014_x86_64.whl (1.0 MB)\n",
            "\u001b[2K     \u001b[90m━━━━━━━━━━━━━━━━━━━━━━━━━━━━━━━━━━━━━━━━\u001b[0m \u001b[32m1.0/1.0 MB\u001b[0m \u001b[31m27.5 MB/s\u001b[0m eta \u001b[36m0:00:00\u001b[0m\n",
            "\u001b[?25hRequirement already satisfied: requests<3.0.0,>=2.24.0 in /usr/local/lib/python3.9/dist-packages (from geoip2) (2.27.1)\n",
            "Collecting maxminddb<3.0.0,>=2.2.0\n",
            "  Downloading maxminddb-2.2.0.tar.gz (330 kB)\n",
            "\u001b[2K     \u001b[90m━━━━━━━━━━━━━━━━━━━━━━━━━━━━━━━━━━━━━━\u001b[0m \u001b[32m330.9/330.9 KB\u001b[0m \u001b[31m31.2 MB/s\u001b[0m eta \u001b[36m0:00:00\u001b[0m\n",
            "\u001b[?25h  Preparing metadata (setup.py) ... \u001b[?25l\u001b[?25hdone\n",
            "Requirement already satisfied: urllib3<2.0.0,>=1.25.2 in /usr/local/lib/python3.9/dist-packages (from geoip2) (1.26.15)\n",
            "Collecting aiosignal>=1.1.2\n",
            "  Downloading aiosignal-1.3.1-py3-none-any.whl (7.6 kB)\n",
            "Collecting yarl<2.0,>=1.0\n",
            "  Downloading yarl-1.8.2-cp39-cp39-manylinux_2_17_x86_64.manylinux2014_x86_64.whl (264 kB)\n",
            "\u001b[2K     \u001b[90m━━━━━━━━━━━━━━━━━━━━━━━━━━━━━━━━━━━━━━\u001b[0m \u001b[32m264.6/264.6 KB\u001b[0m \u001b[31m25.1 MB/s\u001b[0m eta \u001b[36m0:00:00\u001b[0m\n",
            "\u001b[?25hRequirement already satisfied: attrs>=17.3.0 in /usr/local/lib/python3.9/dist-packages (from aiohttp<4.0.0,>=3.6.2->geoip2) (22.2.0)\n",
            "Collecting frozenlist>=1.1.1\n",
            "  Downloading frozenlist-1.3.3-cp39-cp39-manylinux_2_5_x86_64.manylinux1_x86_64.manylinux_2_17_x86_64.manylinux2014_x86_64.whl (158 kB)\n",
            "\u001b[2K     \u001b[90m━━━━━━━━━━━━━━━━━━━━━━━━━━━━━━━━━━━━━━\u001b[0m \u001b[32m158.8/158.8 KB\u001b[0m \u001b[31m19.2 MB/s\u001b[0m eta \u001b[36m0:00:00\u001b[0m\n",
            "\u001b[?25hRequirement already satisfied: charset-normalizer<4.0,>=2.0 in /usr/local/lib/python3.9/dist-packages (from aiohttp<4.0.0,>=3.6.2->geoip2) (2.0.12)\n",
            "Collecting multidict<7.0,>=4.5\n",
            "  Downloading multidict-6.0.4-cp39-cp39-manylinux_2_17_x86_64.manylinux2014_x86_64.whl (114 kB)\n",
            "\u001b[2K     \u001b[90m━━━━━━━━━━━━━━━━━━━━━━━━━━━━━━━━━━━━━━\u001b[0m \u001b[32m114.2/114.2 KB\u001b[0m \u001b[31m15.1 MB/s\u001b[0m eta \u001b[36m0:00:00\u001b[0m\n",
            "\u001b[?25hCollecting async-timeout<5.0,>=4.0.0a3\n",
            "  Downloading async_timeout-4.0.2-py3-none-any.whl (5.8 kB)\n",
            "Requirement already satisfied: idna<4,>=2.5 in /usr/local/lib/python3.9/dist-packages (from requests<3.0.0,>=2.24.0->geoip2) (3.4)\n",
            "Requirement already satisfied: certifi>=2017.4.17 in /usr/local/lib/python3.9/dist-packages (from requests<3.0.0,>=2.24.0->geoip2) (2022.12.7)\n",
            "Building wheels for collected packages: maxminddb\n",
            "  Building wheel for maxminddb (setup.py) ... \u001b[?25l\u001b[?25hdone\n",
            "  Created wheel for maxminddb: filename=maxminddb-2.2.0-py2.py3-none-any.whl size=16355 sha256=eff15ddd046b35fd70e1bde38958f1445d919e8d9ea30d6f590ec8ef50c9515f\n",
            "  Stored in directory: /root/.cache/pip/wheels/23/dc/fa/8784124400b0b6dd34e2e465759197396e5b2a22d0e10e0b0a\n",
            "Successfully built maxminddb\n",
            "Installing collected packages: multidict, maxminddb, frozenlist, async-timeout, yarl, aiosignal, aiohttp, geoip2\n",
            "Successfully installed aiohttp-3.8.4 aiosignal-1.3.1 async-timeout-4.0.2 frozenlist-1.3.3 geoip2-4.6.0 maxminddb-2.2.0 multidict-6.0.4 yarl-1.8.2\n"
          ]
        }
      ]
    },
    {
      "cell_type": "code",
      "source": [
        "import geoip2.database"
      ],
      "metadata": {
        "id": "VB_DOHtJp2LN"
      },
      "execution_count": 97,
      "outputs": []
    },
    {
      "cell_type": "code",
      "source": [
        "def is_client_from_taiwan(ip_address):\n",
        "    try:\n",
        "        response = reader.country(ip_address)\n",
        "        if response.country.iso_code == 'TW':\n",
        "            return True\n",
        "    except:\n",
        "        pass\n",
        "    return False\n",
        "\n",
        "# example usage\n",
        "client_ip = '163.25.114.1' # replace with actual client IP address\n",
        "if is_client_from_taiwan(client_ip):\n",
        "    print('Client is from Taiwan')\n",
        "else:\n",
        "    print('Client is not from Taiwan')"
      ],
      "metadata": {
        "colab": {
          "base_uri": "https://localhost:8080/"
        },
        "id": "idNu0hpQtPIm",
        "outputId": "e045e9e2-b823-41ac-f640-d70ad97425ff"
      },
      "execution_count": 108,
      "outputs": [
        {
          "output_type": "stream",
          "name": "stdout",
          "text": [
            "Client is not from Taiwan\n"
          ]
        }
      ]
    },
    {
      "cell_type": "code",
      "source": [
        "#import streamlit as st\n",
        "import requests\n",
        "\n",
        "def get_client_ip():\n",
        "    try:\n",
        "        ip = requests.get('https://api.ipify.org').text\n",
        "        return ip\n",
        "    except Exception as e:\n",
        "        print(str(e))\n",
        "        return None\n",
        "\n",
        "# example usage\n",
        "ip_address = get_client_ip()\n",
        "if ip_address:\n",
        "    #st.write('Client IP Address:', ip_address)\n",
        "    print('Client IP Address:', ip_address)\n",
        "    print(is_client_from_taiwan(ip_address))\n",
        "else:\n",
        "    #st.write('Failed to retrieve client IP address')\n",
        "    print('Failed to retrieve client IP address')"
      ],
      "metadata": {
        "colab": {
          "base_uri": "https://localhost:8080/"
        },
        "id": "LD53fhMNtTS2",
        "outputId": "70e6ff78-b4d5-4772-e49e-a714f00d8459"
      },
      "execution_count": 109,
      "outputs": [
        {
          "output_type": "stream",
          "name": "stdout",
          "text": [
            "Client IP Address: 34.125.144.202\n",
            "False\n"
          ]
        }
      ]
    },
    {
      "cell_type": "code",
      "source": [
        "# return 'zh' if comes from Taiwan, else 'en', 如果使用者來自台灣回傳 ' zh', 否則 'en'\n",
        "def locate():\n",
        "    ip_address = get_client_ip()\n",
        "    if is_client_from_taiwan(ip_address):\n",
        "     return 'zh'\n",
        "    else:\n",
        "     return 'en'"
      ],
      "metadata": {
        "id": "hujZIyXDtanr"
      },
      "execution_count": 112,
      "outputs": []
    },
    {
      "cell_type": "code",
      "source": [
        "import pandas as pd\n",
        "import streamlit as st"
      ],
      "metadata": {
        "id": "--g3ROLjtk9m"
      },
      "execution_count": 113,
      "outputs": []
    },
    {
      "cell_type": "code",
      "source": [
        "import requests\n",
        "import geoip2.database"
      ],
      "metadata": {
        "id": "-WFwwGAztm2Z"
      },
      "execution_count": 115,
      "outputs": []
    },
    {
      "cell_type": "code",
      "source": [
        "# path to Geoip2.database.mmdb file, download it to the sub-folder: data\n",
        "reader = geoip2.database.Reader('/content/gdrive/My Drive/geoip2.database.mmdb')"
      ],
      "metadata": {
        "colab": {
          "base_uri": "https://localhost:8080/",
          "height": 357
        },
        "id": "4NPM-Av2tp_K",
        "outputId": "8e810ab9-36f1-45f3-e1ca-2caf77e7c6c9"
      },
      "execution_count": 126,
      "outputs": [
        {
          "output_type": "error",
          "ename": "InvalidDatabaseError",
          "evalue": "ignored",
          "traceback": [
            "\u001b[0;31m---------------------------------------------------------------------------\u001b[0m",
            "\u001b[0;31mInvalidDatabaseError\u001b[0m                      Traceback (most recent call last)",
            "\u001b[0;32m<ipython-input-126-5407b93ed695>\u001b[0m in \u001b[0;36m<module>\u001b[0;34m\u001b[0m\n\u001b[1;32m      1\u001b[0m \u001b[0;31m# path to Geoip2.database.mmdb file, download it to the sub-folder: data\u001b[0m\u001b[0;34m\u001b[0m\u001b[0;34m\u001b[0m\u001b[0m\n\u001b[0;32m----> 2\u001b[0;31m \u001b[0mreader\u001b[0m \u001b[0;34m=\u001b[0m \u001b[0mgeoip2\u001b[0m\u001b[0;34m.\u001b[0m\u001b[0mdatabase\u001b[0m\u001b[0;34m.\u001b[0m\u001b[0mReader\u001b[0m\u001b[0;34m(\u001b[0m\u001b[0;34m'/content/gdrive/My Drive/geoip2.database.mmdb'\u001b[0m\u001b[0;34m)\u001b[0m\u001b[0;34m\u001b[0m\u001b[0;34m\u001b[0m\u001b[0m\n\u001b[0m",
            "\u001b[0;32m/usr/local/lib/python3.9/dist-packages/geoip2/database.py\u001b[0m in \u001b[0;36m__init__\u001b[0;34m(self, fileish, locales, mode)\u001b[0m\n\u001b[1;32m    117\u001b[0m         \u001b[0;32mif\u001b[0m \u001b[0mlocales\u001b[0m \u001b[0;32mis\u001b[0m \u001b[0;32mNone\u001b[0m\u001b[0;34m:\u001b[0m\u001b[0;34m\u001b[0m\u001b[0;34m\u001b[0m\u001b[0m\n\u001b[1;32m    118\u001b[0m             \u001b[0mlocales\u001b[0m \u001b[0;34m=\u001b[0m \u001b[0;34m[\u001b[0m\u001b[0;34m\"en\"\u001b[0m\u001b[0;34m]\u001b[0m\u001b[0;34m\u001b[0m\u001b[0;34m\u001b[0m\u001b[0m\n\u001b[0;32m--> 119\u001b[0;31m         \u001b[0mself\u001b[0m\u001b[0;34m.\u001b[0m\u001b[0m_db_reader\u001b[0m \u001b[0;34m=\u001b[0m \u001b[0mmaxminddb\u001b[0m\u001b[0;34m.\u001b[0m\u001b[0mopen_database\u001b[0m\u001b[0;34m(\u001b[0m\u001b[0mfileish\u001b[0m\u001b[0;34m,\u001b[0m \u001b[0mmode\u001b[0m\u001b[0;34m)\u001b[0m\u001b[0;34m\u001b[0m\u001b[0;34m\u001b[0m\u001b[0m\n\u001b[0m\u001b[1;32m    120\u001b[0m         \u001b[0mself\u001b[0m\u001b[0;34m.\u001b[0m\u001b[0m_db_type\u001b[0m \u001b[0;34m=\u001b[0m \u001b[0mself\u001b[0m\u001b[0;34m.\u001b[0m\u001b[0m_db_reader\u001b[0m\u001b[0;34m.\u001b[0m\u001b[0mmetadata\u001b[0m\u001b[0;34m(\u001b[0m\u001b[0;34m)\u001b[0m\u001b[0;34m.\u001b[0m\u001b[0mdatabase_type\u001b[0m\u001b[0;34m\u001b[0m\u001b[0;34m\u001b[0m\u001b[0m\n\u001b[1;32m    121\u001b[0m         \u001b[0mself\u001b[0m\u001b[0;34m.\u001b[0m\u001b[0m_locales\u001b[0m \u001b[0;34m=\u001b[0m \u001b[0mlocales\u001b[0m\u001b[0;34m\u001b[0m\u001b[0;34m\u001b[0m\u001b[0m\n",
            "\u001b[0;32m/usr/local/lib/python3.9/dist-packages/maxminddb/__init__.py\u001b[0m in \u001b[0;36mopen_database\u001b[0;34m(database, mode)\u001b[0m\n\u001b[1;32m     67\u001b[0m \u001b[0;34m\u001b[0m\u001b[0m\n\u001b[1;32m     68\u001b[0m     \u001b[0;32mif\u001b[0m \u001b[0;32mnot\u001b[0m \u001b[0muse_extension\u001b[0m\u001b[0;34m:\u001b[0m\u001b[0;34m\u001b[0m\u001b[0;34m\u001b[0m\u001b[0m\n\u001b[0;32m---> 69\u001b[0;31m         \u001b[0;32mreturn\u001b[0m \u001b[0mReader\u001b[0m\u001b[0;34m(\u001b[0m\u001b[0mdatabase\u001b[0m\u001b[0;34m,\u001b[0m \u001b[0mmode\u001b[0m\u001b[0;34m)\u001b[0m\u001b[0;34m\u001b[0m\u001b[0;34m\u001b[0m\u001b[0m\n\u001b[0m\u001b[1;32m     70\u001b[0m \u001b[0;34m\u001b[0m\u001b[0m\n\u001b[1;32m     71\u001b[0m     \u001b[0;32mif\u001b[0m \u001b[0;32mnot\u001b[0m \u001b[0mhas_extension\u001b[0m\u001b[0;34m:\u001b[0m\u001b[0;34m\u001b[0m\u001b[0;34m\u001b[0m\u001b[0m\n",
            "\u001b[0;32m/usr/local/lib/python3.9/dist-packages/maxminddb/reader.py\u001b[0m in \u001b[0;36m__init__\u001b[0;34m(self, database, mode)\u001b[0m\n\u001b[1;32m     85\u001b[0m         \u001b[0;32mif\u001b[0m \u001b[0mmetadata_start\u001b[0m \u001b[0;34m==\u001b[0m \u001b[0;34m-\u001b[0m\u001b[0;36m1\u001b[0m\u001b[0;34m:\u001b[0m\u001b[0;34m\u001b[0m\u001b[0;34m\u001b[0m\u001b[0m\n\u001b[1;32m     86\u001b[0m             \u001b[0mself\u001b[0m\u001b[0;34m.\u001b[0m\u001b[0mclose\u001b[0m\u001b[0;34m(\u001b[0m\u001b[0;34m)\u001b[0m\u001b[0;34m\u001b[0m\u001b[0;34m\u001b[0m\u001b[0m\n\u001b[0;32m---> 87\u001b[0;31m             raise InvalidDatabaseError(\n\u001b[0m\u001b[1;32m     88\u001b[0m                 \u001b[0;34mf\"Error opening database file ({filename}). \"\u001b[0m\u001b[0;34m\u001b[0m\u001b[0;34m\u001b[0m\u001b[0m\n\u001b[1;32m     89\u001b[0m                 \u001b[0;34m\"Is this a valid MaxMind DB file?\"\u001b[0m\u001b[0;34m\u001b[0m\u001b[0;34m\u001b[0m\u001b[0m\n",
            "\u001b[0;31mInvalidDatabaseError\u001b[0m: Error opening database file (/content/gdrive/My Drive/geoip2.database.mmdb). Is this a valid MaxMind DB file?"
          ]
        }
      ]
    },
    {
      "cell_type": "code",
      "source": [
        "# translations\n",
        "translations = {\n",
        "    'en': {'title': 'Taiwan Stock Exchange - Search',\n",
        "           'search_option': 'Search by',\n",
        "           'symbol_option': 'Symbol',\n",
        "           'name_option': 'Name',\n",
        "           'search_term': 'Enter search term',\n",
        "           'no_results': 'No results found',\n",
        "           'language': 'Language',\n",
        "           'search': 'Search'},\n",
        "    'zh': {'title': '台灣證券交易所 - 搜尋',\n",
        "           'search_option': '搜尋方式',\n",
        "           'symbol_option': '代號',\n",
        "           'name_option': '名稱',\n",
        "           'search_term': '輸入搜尋關鍵字',\n",
        "           'no_results': '查無結果',\n",
        "           'language': '語言',\n",
        "           'search': '搜尋'}\n",
        "}\n"
      ],
      "metadata": {
        "id": "DGO0kyAWvQp3"
      },
      "execution_count": 127,
      "outputs": []
    },
    {
      "cell_type": "code",
      "source": [
        "# read data\n",
        "#TAI_ind = 'https://isin.twse.com.tw/isin/C_public.jsp?strMode=2'\n",
        "#df = pd.read_html(TAI_ind, encoding='cp950')\n",
        "#df1 = pd.DataFrame(df[0][0][2:].str.split('\\u3000').tolist(), columns=['Symbol', 'Name'])"
      ],
      "metadata": {
        "id": "ywOtvBmTvVXZ"
      },
      "execution_count": 128,
      "outputs": []
    },
    {
      "cell_type": "code",
      "source": [
        "#df1=pd.read_csv(\"TWSE.csv\",index_col=0)\n",
        "df1=pd.read_csv(\"/content/gdrive/My Drive/TWSE_TW-1(1).csv_\")\n",
        "df1.fillna('', inplace=True)\n",
        "# set up state\n",
        "state = st.session_state"
      ],
      "metadata": {
        "id": "rTYq18B1vWgO"
      },
      "execution_count": 130,
      "outputs": []
    },
    {
      "cell_type": "code",
      "source": [
        "# detect where client comes from\n",
        "def is_client_from_taiwan(ip_address):\n",
        "    try:\n",
        "        response = reader.country(ip_address)\n",
        "        if response.country.iso_code == 'TW':\n",
        "            return True\n",
        "    except:\n",
        "        pass\n",
        "    return False"
      ],
      "metadata": {
        "id": "nNRtpu1ZvlQm"
      },
      "execution_count": 131,
      "outputs": []
    },
    {
      "cell_type": "code",
      "source": [
        "def get_client_ip():\n",
        "    try:\n",
        "        ip = requests.get('https://api.ipify.org').text\n",
        "        return ip\n",
        "    except Exception as e:\n",
        "        print(str(e))\n",
        "        return None"
      ],
      "metadata": {
        "id": "p4Ef_l4Fvm_N"
      },
      "execution_count": 132,
      "outputs": []
    },
    {
      "cell_type": "code",
      "source": [
        "def locate():\n",
        "    ip_address = get_client_ip()\n",
        "    if is_client_from_taiwan(ip_address):\n",
        "       return 'zh'\n",
        "    else:\n",
        "       return 'en'   \n"
      ],
      "metadata": {
        "id": "gqKbhlRivrMz"
      },
      "execution_count": 135,
      "outputs": []
    },
    {
      "cell_type": "code",
      "source": [
        "df1[df1['Symbol'].str.contains('3008')]"
      ],
      "metadata": {
        "colab": {
          "base_uri": "https://localhost:8080/",
          "height": 457
        },
        "id": "jEsjRGmKwAlo",
        "outputId": "adc4df79-e051-438f-f411-db8706990002"
      },
      "execution_count": 138,
      "outputs": [
        {
          "output_type": "execute_result",
          "data": {
            "text/plain": [
              "      Unnamed: 0     Symbol        Name\n",
              "510          512    3008.TW         大立光\n",
              "1066        1068  030080.TW  臺指反凱基2B購04\n",
              "1067        1069  030081.TW   台泥凱基25購01\n",
              "1068        1070  030082.TW  中興電凱基25購01\n",
              "1069        1071  030083.TW   中砂凱基27購01\n",
              "1070        1072  030084.TW   裕隆凱基25購02\n",
              "1071        1073  030085.TW   鴻海凱基26購06\n",
              "1072        1074  030086.TW   美律凱基25購01\n",
              "1073        1075  030087.TW   全新凱基25購02\n",
              "1074        1076  030088.TW  揚明光凱基25購03\n",
              "1075        1077  030089.TW   華擎凱基26購02\n",
              "1076        1078  03008U.TW  臺股指國票29售03\n",
              "4475        4477  033008.TW   晶華中信26購01"
            ],
            "text/html": [
              "\n",
              "  <div id=\"df-01e9b56f-efdd-43ca-9d9f-0ccc2552a9f5\">\n",
              "    <div class=\"colab-df-container\">\n",
              "      <div>\n",
              "<style scoped>\n",
              "    .dataframe tbody tr th:only-of-type {\n",
              "        vertical-align: middle;\n",
              "    }\n",
              "\n",
              "    .dataframe tbody tr th {\n",
              "        vertical-align: top;\n",
              "    }\n",
              "\n",
              "    .dataframe thead th {\n",
              "        text-align: right;\n",
              "    }\n",
              "</style>\n",
              "<table border=\"1\" class=\"dataframe\">\n",
              "  <thead>\n",
              "    <tr style=\"text-align: right;\">\n",
              "      <th></th>\n",
              "      <th>Unnamed: 0</th>\n",
              "      <th>Symbol</th>\n",
              "      <th>Name</th>\n",
              "    </tr>\n",
              "  </thead>\n",
              "  <tbody>\n",
              "    <tr>\n",
              "      <th>510</th>\n",
              "      <td>512</td>\n",
              "      <td>3008.TW</td>\n",
              "      <td>大立光</td>\n",
              "    </tr>\n",
              "    <tr>\n",
              "      <th>1066</th>\n",
              "      <td>1068</td>\n",
              "      <td>030080.TW</td>\n",
              "      <td>臺指反凱基2B購04</td>\n",
              "    </tr>\n",
              "    <tr>\n",
              "      <th>1067</th>\n",
              "      <td>1069</td>\n",
              "      <td>030081.TW</td>\n",
              "      <td>台泥凱基25購01</td>\n",
              "    </tr>\n",
              "    <tr>\n",
              "      <th>1068</th>\n",
              "      <td>1070</td>\n",
              "      <td>030082.TW</td>\n",
              "      <td>中興電凱基25購01</td>\n",
              "    </tr>\n",
              "    <tr>\n",
              "      <th>1069</th>\n",
              "      <td>1071</td>\n",
              "      <td>030083.TW</td>\n",
              "      <td>中砂凱基27購01</td>\n",
              "    </tr>\n",
              "    <tr>\n",
              "      <th>1070</th>\n",
              "      <td>1072</td>\n",
              "      <td>030084.TW</td>\n",
              "      <td>裕隆凱基25購02</td>\n",
              "    </tr>\n",
              "    <tr>\n",
              "      <th>1071</th>\n",
              "      <td>1073</td>\n",
              "      <td>030085.TW</td>\n",
              "      <td>鴻海凱基26購06</td>\n",
              "    </tr>\n",
              "    <tr>\n",
              "      <th>1072</th>\n",
              "      <td>1074</td>\n",
              "      <td>030086.TW</td>\n",
              "      <td>美律凱基25購01</td>\n",
              "    </tr>\n",
              "    <tr>\n",
              "      <th>1073</th>\n",
              "      <td>1075</td>\n",
              "      <td>030087.TW</td>\n",
              "      <td>全新凱基25購02</td>\n",
              "    </tr>\n",
              "    <tr>\n",
              "      <th>1074</th>\n",
              "      <td>1076</td>\n",
              "      <td>030088.TW</td>\n",
              "      <td>揚明光凱基25購03</td>\n",
              "    </tr>\n",
              "    <tr>\n",
              "      <th>1075</th>\n",
              "      <td>1077</td>\n",
              "      <td>030089.TW</td>\n",
              "      <td>華擎凱基26購02</td>\n",
              "    </tr>\n",
              "    <tr>\n",
              "      <th>1076</th>\n",
              "      <td>1078</td>\n",
              "      <td>03008U.TW</td>\n",
              "      <td>臺股指國票29售03</td>\n",
              "    </tr>\n",
              "    <tr>\n",
              "      <th>4475</th>\n",
              "      <td>4477</td>\n",
              "      <td>033008.TW</td>\n",
              "      <td>晶華中信26購01</td>\n",
              "    </tr>\n",
              "  </tbody>\n",
              "</table>\n",
              "</div>\n",
              "      <button class=\"colab-df-convert\" onclick=\"convertToInteractive('df-01e9b56f-efdd-43ca-9d9f-0ccc2552a9f5')\"\n",
              "              title=\"Convert this dataframe to an interactive table.\"\n",
              "              style=\"display:none;\">\n",
              "        \n",
              "  <svg xmlns=\"http://www.w3.org/2000/svg\" height=\"24px\"viewBox=\"0 0 24 24\"\n",
              "       width=\"24px\">\n",
              "    <path d=\"M0 0h24v24H0V0z\" fill=\"none\"/>\n",
              "    <path d=\"M18.56 5.44l.94 2.06.94-2.06 2.06-.94-2.06-.94-.94-2.06-.94 2.06-2.06.94zm-11 1L8.5 8.5l.94-2.06 2.06-.94-2.06-.94L8.5 2.5l-.94 2.06-2.06.94zm10 10l.94 2.06.94-2.06 2.06-.94-2.06-.94-.94-2.06-.94 2.06-2.06.94z\"/><path d=\"M17.41 7.96l-1.37-1.37c-.4-.4-.92-.59-1.43-.59-.52 0-1.04.2-1.43.59L10.3 9.45l-7.72 7.72c-.78.78-.78 2.05 0 2.83L4 21.41c.39.39.9.59 1.41.59.51 0 1.02-.2 1.41-.59l7.78-7.78 2.81-2.81c.8-.78.8-2.07 0-2.86zM5.41 20L4 18.59l7.72-7.72 1.47 1.35L5.41 20z\"/>\n",
              "  </svg>\n",
              "      </button>\n",
              "      \n",
              "  <style>\n",
              "    .colab-df-container {\n",
              "      display:flex;\n",
              "      flex-wrap:wrap;\n",
              "      gap: 12px;\n",
              "    }\n",
              "\n",
              "    .colab-df-convert {\n",
              "      background-color: #E8F0FE;\n",
              "      border: none;\n",
              "      border-radius: 50%;\n",
              "      cursor: pointer;\n",
              "      display: none;\n",
              "      fill: #1967D2;\n",
              "      height: 32px;\n",
              "      padding: 0 0 0 0;\n",
              "      width: 32px;\n",
              "    }\n",
              "\n",
              "    .colab-df-convert:hover {\n",
              "      background-color: #E2EBFA;\n",
              "      box-shadow: 0px 1px 2px rgba(60, 64, 67, 0.3), 0px 1px 3px 1px rgba(60, 64, 67, 0.15);\n",
              "      fill: #174EA6;\n",
              "    }\n",
              "\n",
              "    [theme=dark] .colab-df-convert {\n",
              "      background-color: #3B4455;\n",
              "      fill: #D2E3FC;\n",
              "    }\n",
              "\n",
              "    [theme=dark] .colab-df-convert:hover {\n",
              "      background-color: #434B5C;\n",
              "      box-shadow: 0px 1px 3px 1px rgba(0, 0, 0, 0.15);\n",
              "      filter: drop-shadow(0px 1px 2px rgba(0, 0, 0, 0.3));\n",
              "      fill: #FFFFFF;\n",
              "    }\n",
              "  </style>\n",
              "\n",
              "      <script>\n",
              "        const buttonEl =\n",
              "          document.querySelector('#df-01e9b56f-efdd-43ca-9d9f-0ccc2552a9f5 button.colab-df-convert');\n",
              "        buttonEl.style.display =\n",
              "          google.colab.kernel.accessAllowed ? 'block' : 'none';\n",
              "\n",
              "        async function convertToInteractive(key) {\n",
              "          const element = document.querySelector('#df-01e9b56f-efdd-43ca-9d9f-0ccc2552a9f5');\n",
              "          const dataTable =\n",
              "            await google.colab.kernel.invokeFunction('convertToInteractive',\n",
              "                                                     [key], {});\n",
              "          if (!dataTable) return;\n",
              "\n",
              "          const docLinkHtml = 'Like what you see? Visit the ' +\n",
              "            '<a target=\"_blank\" href=https://colab.research.google.com/notebooks/data_table.ipynb>data table notebook</a>'\n",
              "            + ' to learn more about interactive tables.';\n",
              "          element.innerHTML = '';\n",
              "          dataTable['output_type'] = 'display_data';\n",
              "          await google.colab.output.renderOutput(dataTable, element);\n",
              "          const docLink = document.createElement('div');\n",
              "          docLink.innerHTML = docLinkHtml;\n",
              "          element.appendChild(docLink);\n",
              "        }\n",
              "      </script>\n",
              "    </div>\n",
              "  </div>\n",
              "  "
            ]
          },
          "metadata": {},
          "execution_count": 138
        }
      ]
    }
  ]
}